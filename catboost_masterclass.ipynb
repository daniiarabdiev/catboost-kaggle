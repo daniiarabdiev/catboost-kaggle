{
  "nbformat": 4,
  "nbformat_minor": 0,
  "metadata": {
    "colab": {
      "name": "Copy of catboost-masterclass.ipynb",
      "provenance": [],
      "collapsed_sections": []
    },
    "kernelspec": {
      "name": "python3",
      "display_name": "Python 3"
    },
    "accelerator": "GPU"
  },
  "cells": [
    {
      "cell_type": "code",
      "metadata": {
        "id": "aGalZXy2P0r5",
        "colab_type": "code",
        "outputId": "90425808-ae2b-430f-8fac-bfc4e0c86a09",
        "colab": {
          "base_uri": "https://localhost:8080/",
          "height": 989
        }
      },
      "source": [
        "!pip install catboost\n",
        "!pip install ipywidgets\n",
        "!jupyter nbextension enable --py widgetsnbextension"
      ],
      "execution_count": 1,
      "outputs": [
        {
          "output_type": "stream",
          "text": [
            "Collecting catboost\n",
            "\u001b[?25l  Downloading https://files.pythonhosted.org/packages/ca/ae/aaff63662f7f5d2af7ec8d61a6f39e78ada9348e5df4f43e665ecc4bea10/catboost-0.21-cp36-none-manylinux1_x86_64.whl (64.0MB)\n",
            "\u001b[K     |████████████████████████████████| 64.0MB 45kB/s \n",
            "\u001b[?25hRequirement already satisfied: scipy in /usr/local/lib/python3.6/dist-packages (from catboost) (1.4.1)\n",
            "Requirement already satisfied: numpy>=1.16.0 in /usr/local/lib/python3.6/dist-packages (from catboost) (1.17.5)\n",
            "Requirement already satisfied: graphviz in /usr/local/lib/python3.6/dist-packages (from catboost) (0.10.1)\n",
            "Requirement already satisfied: plotly in /usr/local/lib/python3.6/dist-packages (from catboost) (4.4.1)\n",
            "Requirement already satisfied: six in /usr/local/lib/python3.6/dist-packages (from catboost) (1.12.0)\n",
            "Requirement already satisfied: pandas>=0.24.0 in /usr/local/lib/python3.6/dist-packages (from catboost) (0.25.3)\n",
            "Requirement already satisfied: matplotlib in /usr/local/lib/python3.6/dist-packages (from catboost) (3.1.2)\n",
            "Requirement already satisfied: retrying>=1.3.3 in /usr/local/lib/python3.6/dist-packages (from plotly->catboost) (1.3.3)\n",
            "Requirement already satisfied: python-dateutil>=2.6.1 in /usr/local/lib/python3.6/dist-packages (from pandas>=0.24.0->catboost) (2.6.1)\n",
            "Requirement already satisfied: pytz>=2017.2 in /usr/local/lib/python3.6/dist-packages (from pandas>=0.24.0->catboost) (2018.9)\n",
            "Requirement already satisfied: pyparsing!=2.0.4,!=2.1.2,!=2.1.6,>=2.0.1 in /usr/local/lib/python3.6/dist-packages (from matplotlib->catboost) (2.4.6)\n",
            "Requirement already satisfied: cycler>=0.10 in /usr/local/lib/python3.6/dist-packages (from matplotlib->catboost) (0.10.0)\n",
            "Requirement already satisfied: kiwisolver>=1.0.1 in /usr/local/lib/python3.6/dist-packages (from matplotlib->catboost) (1.1.0)\n",
            "Requirement already satisfied: setuptools in /usr/local/lib/python3.6/dist-packages (from kiwisolver>=1.0.1->matplotlib->catboost) (42.0.2)\n",
            "Installing collected packages: catboost\n",
            "Successfully installed catboost-0.21\n",
            "Requirement already satisfied: ipywidgets in /usr/local/lib/python3.6/dist-packages (7.5.1)\n",
            "Requirement already satisfied: traitlets>=4.3.1 in /usr/local/lib/python3.6/dist-packages (from ipywidgets) (4.3.3)\n",
            "Requirement already satisfied: ipython>=4.0.0; python_version >= \"3.3\" in /usr/local/lib/python3.6/dist-packages (from ipywidgets) (5.5.0)\n",
            "Requirement already satisfied: nbformat>=4.2.0 in /usr/local/lib/python3.6/dist-packages (from ipywidgets) (5.0.3)\n",
            "Requirement already satisfied: ipykernel>=4.5.1 in /usr/local/lib/python3.6/dist-packages (from ipywidgets) (4.6.1)\n",
            "Requirement already satisfied: widgetsnbextension~=3.5.0 in /usr/local/lib/python3.6/dist-packages (from ipywidgets) (3.5.1)\n",
            "Requirement already satisfied: ipython-genutils in /usr/local/lib/python3.6/dist-packages (from traitlets>=4.3.1->ipywidgets) (0.2.0)\n",
            "Requirement already satisfied: decorator in /usr/local/lib/python3.6/dist-packages (from traitlets>=4.3.1->ipywidgets) (4.4.1)\n",
            "Requirement already satisfied: six in /usr/local/lib/python3.6/dist-packages (from traitlets>=4.3.1->ipywidgets) (1.12.0)\n",
            "Requirement already satisfied: pickleshare in /usr/local/lib/python3.6/dist-packages (from ipython>=4.0.0; python_version >= \"3.3\"->ipywidgets) (0.7.5)\n",
            "Requirement already satisfied: pygments in /usr/local/lib/python3.6/dist-packages (from ipython>=4.0.0; python_version >= \"3.3\"->ipywidgets) (2.1.3)\n",
            "Requirement already satisfied: prompt-toolkit<2.0.0,>=1.0.4 in /usr/local/lib/python3.6/dist-packages (from ipython>=4.0.0; python_version >= \"3.3\"->ipywidgets) (1.0.18)\n",
            "Requirement already satisfied: pexpect; sys_platform != \"win32\" in /usr/local/lib/python3.6/dist-packages (from ipython>=4.0.0; python_version >= \"3.3\"->ipywidgets) (4.7.0)\n",
            "Requirement already satisfied: simplegeneric>0.8 in /usr/local/lib/python3.6/dist-packages (from ipython>=4.0.0; python_version >= \"3.3\"->ipywidgets) (0.8.1)\n",
            "Requirement already satisfied: setuptools>=18.5 in /usr/local/lib/python3.6/dist-packages (from ipython>=4.0.0; python_version >= \"3.3\"->ipywidgets) (42.0.2)\n",
            "Requirement already satisfied: jupyter-core in /usr/local/lib/python3.6/dist-packages (from nbformat>=4.2.0->ipywidgets) (4.6.1)\n",
            "Requirement already satisfied: jsonschema!=2.5.0,>=2.4 in /usr/local/lib/python3.6/dist-packages (from nbformat>=4.2.0->ipywidgets) (2.6.0)\n",
            "Requirement already satisfied: tornado>=4.0 in /usr/local/lib/python3.6/dist-packages (from ipykernel>=4.5.1->ipywidgets) (4.5.3)\n",
            "Requirement already satisfied: jupyter-client in /usr/local/lib/python3.6/dist-packages (from ipykernel>=4.5.1->ipywidgets) (5.3.4)\n",
            "Requirement already satisfied: notebook>=4.4.1 in /usr/local/lib/python3.6/dist-packages (from widgetsnbextension~=3.5.0->ipywidgets) (5.2.2)\n",
            "Requirement already satisfied: wcwidth in /usr/local/lib/python3.6/dist-packages (from prompt-toolkit<2.0.0,>=1.0.4->ipython>=4.0.0; python_version >= \"3.3\"->ipywidgets) (0.1.8)\n",
            "Requirement already satisfied: ptyprocess>=0.5 in /usr/local/lib/python3.6/dist-packages (from pexpect; sys_platform != \"win32\"->ipython>=4.0.0; python_version >= \"3.3\"->ipywidgets) (0.6.0)\n",
            "Requirement already satisfied: python-dateutil>=2.1 in /usr/local/lib/python3.6/dist-packages (from jupyter-client->ipykernel>=4.5.1->ipywidgets) (2.6.1)\n",
            "Requirement already satisfied: pyzmq>=13 in /usr/local/lib/python3.6/dist-packages (from jupyter-client->ipykernel>=4.5.1->ipywidgets) (17.0.0)\n",
            "Requirement already satisfied: nbconvert in /usr/local/lib/python3.6/dist-packages (from notebook>=4.4.1->widgetsnbextension~=3.5.0->ipywidgets) (5.6.1)\n",
            "Requirement already satisfied: jinja2 in /usr/local/lib/python3.6/dist-packages (from notebook>=4.4.1->widgetsnbextension~=3.5.0->ipywidgets) (2.10.3)\n",
            "Requirement already satisfied: terminado>=0.3.3; sys_platform != \"win32\" in /usr/local/lib/python3.6/dist-packages (from notebook>=4.4.1->widgetsnbextension~=3.5.0->ipywidgets) (0.8.3)\n",
            "Requirement already satisfied: defusedxml in /usr/local/lib/python3.6/dist-packages (from nbconvert->notebook>=4.4.1->widgetsnbextension~=3.5.0->ipywidgets) (0.6.0)\n",
            "Requirement already satisfied: pandocfilters>=1.4.1 in /usr/local/lib/python3.6/dist-packages (from nbconvert->notebook>=4.4.1->widgetsnbextension~=3.5.0->ipywidgets) (1.4.2)\n",
            "Requirement already satisfied: entrypoints>=0.2.2 in /usr/local/lib/python3.6/dist-packages (from nbconvert->notebook>=4.4.1->widgetsnbextension~=3.5.0->ipywidgets) (0.3)\n",
            "Requirement already satisfied: testpath in /usr/local/lib/python3.6/dist-packages (from nbconvert->notebook>=4.4.1->widgetsnbextension~=3.5.0->ipywidgets) (0.4.4)\n",
            "Requirement already satisfied: bleach in /usr/local/lib/python3.6/dist-packages (from nbconvert->notebook>=4.4.1->widgetsnbextension~=3.5.0->ipywidgets) (3.1.0)\n",
            "Requirement already satisfied: mistune<2,>=0.8.1 in /usr/local/lib/python3.6/dist-packages (from nbconvert->notebook>=4.4.1->widgetsnbextension~=3.5.0->ipywidgets) (0.8.4)\n",
            "Requirement already satisfied: MarkupSafe>=0.23 in /usr/local/lib/python3.6/dist-packages (from jinja2->notebook>=4.4.1->widgetsnbextension~=3.5.0->ipywidgets) (1.1.1)\n",
            "Requirement already satisfied: webencodings in /usr/local/lib/python3.6/dist-packages (from bleach->nbconvert->notebook>=4.4.1->widgetsnbextension~=3.5.0->ipywidgets) (0.5.1)\n",
            "Enabling notebook extension jupyter-js-widgets/extension...\n",
            "      - Validating: \u001b[32mOK\u001b[0m\n"
          ],
          "name": "stdout"
        }
      ]
    },
    {
      "cell_type": "code",
      "metadata": {
        "id": "C4NA3IscP_gf",
        "colab_type": "code",
        "colab": {}
      },
      "source": [
        ""
      ],
      "execution_count": 0,
      "outputs": []
    },
    {
      "cell_type": "markdown",
      "metadata": {
        "id": "Vf1A1cRhTN0m",
        "colab_type": "text"
      },
      "source": [
        "Data Preparation"
      ]
    },
    {
      "cell_type": "code",
      "metadata": {
        "id": "KUAAcTzUTQBz",
        "colab_type": "code",
        "colab": {}
      },
      "source": [
        "from catboost.datasets import amazon\n",
        "import pandas as pd\n",
        "import numpy as np\n",
        "from sklearn.model_selection import train_test_split\n",
        "from catboost import Pool"
      ],
      "execution_count": 0,
      "outputs": []
    },
    {
      "cell_type": "code",
      "metadata": {
        "id": "YoMnUkV9TalG",
        "colab_type": "code",
        "colab": {}
      },
      "source": [
        "train_df, test_df = amazon()\n"
      ],
      "execution_count": 0,
      "outputs": []
    },
    {
      "cell_type": "code",
      "metadata": {
        "id": "6II_sKm2KgGs",
        "colab_type": "code",
        "outputId": "04428421-1461-45eb-f368-5bdb3deea189",
        "colab": {
          "base_uri": "https://localhost:8080/",
          "height": 204
        }
      },
      "source": [
        "train_df.head()"
      ],
      "execution_count": 4,
      "outputs": [
        {
          "output_type": "execute_result",
          "data": {
            "text/html": [
              "<div>\n",
              "<style scoped>\n",
              "    .dataframe tbody tr th:only-of-type {\n",
              "        vertical-align: middle;\n",
              "    }\n",
              "\n",
              "    .dataframe tbody tr th {\n",
              "        vertical-align: top;\n",
              "    }\n",
              "\n",
              "    .dataframe thead th {\n",
              "        text-align: right;\n",
              "    }\n",
              "</style>\n",
              "<table border=\"1\" class=\"dataframe\">\n",
              "  <thead>\n",
              "    <tr style=\"text-align: right;\">\n",
              "      <th></th>\n",
              "      <th>ACTION</th>\n",
              "      <th>RESOURCE</th>\n",
              "      <th>MGR_ID</th>\n",
              "      <th>ROLE_ROLLUP_1</th>\n",
              "      <th>ROLE_ROLLUP_2</th>\n",
              "      <th>ROLE_DEPTNAME</th>\n",
              "      <th>ROLE_TITLE</th>\n",
              "      <th>ROLE_FAMILY_DESC</th>\n",
              "      <th>ROLE_FAMILY</th>\n",
              "      <th>ROLE_CODE</th>\n",
              "    </tr>\n",
              "  </thead>\n",
              "  <tbody>\n",
              "    <tr>\n",
              "      <th>0</th>\n",
              "      <td>1</td>\n",
              "      <td>39353</td>\n",
              "      <td>85475</td>\n",
              "      <td>117961</td>\n",
              "      <td>118300</td>\n",
              "      <td>123472</td>\n",
              "      <td>117905</td>\n",
              "      <td>117906</td>\n",
              "      <td>290919</td>\n",
              "      <td>117908</td>\n",
              "    </tr>\n",
              "    <tr>\n",
              "      <th>1</th>\n",
              "      <td>1</td>\n",
              "      <td>17183</td>\n",
              "      <td>1540</td>\n",
              "      <td>117961</td>\n",
              "      <td>118343</td>\n",
              "      <td>123125</td>\n",
              "      <td>118536</td>\n",
              "      <td>118536</td>\n",
              "      <td>308574</td>\n",
              "      <td>118539</td>\n",
              "    </tr>\n",
              "    <tr>\n",
              "      <th>2</th>\n",
              "      <td>1</td>\n",
              "      <td>36724</td>\n",
              "      <td>14457</td>\n",
              "      <td>118219</td>\n",
              "      <td>118220</td>\n",
              "      <td>117884</td>\n",
              "      <td>117879</td>\n",
              "      <td>267952</td>\n",
              "      <td>19721</td>\n",
              "      <td>117880</td>\n",
              "    </tr>\n",
              "    <tr>\n",
              "      <th>3</th>\n",
              "      <td>1</td>\n",
              "      <td>36135</td>\n",
              "      <td>5396</td>\n",
              "      <td>117961</td>\n",
              "      <td>118343</td>\n",
              "      <td>119993</td>\n",
              "      <td>118321</td>\n",
              "      <td>240983</td>\n",
              "      <td>290919</td>\n",
              "      <td>118322</td>\n",
              "    </tr>\n",
              "    <tr>\n",
              "      <th>4</th>\n",
              "      <td>1</td>\n",
              "      <td>42680</td>\n",
              "      <td>5905</td>\n",
              "      <td>117929</td>\n",
              "      <td>117930</td>\n",
              "      <td>119569</td>\n",
              "      <td>119323</td>\n",
              "      <td>123932</td>\n",
              "      <td>19793</td>\n",
              "      <td>119325</td>\n",
              "    </tr>\n",
              "  </tbody>\n",
              "</table>\n",
              "</div>"
            ],
            "text/plain": [
              "   ACTION  RESOURCE  MGR_ID  ...  ROLE_FAMILY_DESC  ROLE_FAMILY  ROLE_CODE\n",
              "0       1     39353   85475  ...            117906       290919     117908\n",
              "1       1     17183    1540  ...            118536       308574     118539\n",
              "2       1     36724   14457  ...            267952        19721     117880\n",
              "3       1     36135    5396  ...            240983       290919     118322\n",
              "4       1     42680    5905  ...            123932        19793     119325\n",
              "\n",
              "[5 rows x 10 columns]"
            ]
          },
          "metadata": {
            "tags": []
          },
          "execution_count": 4
        }
      ]
    },
    {
      "cell_type": "code",
      "metadata": {
        "id": "jJ6s48VAX7ZH",
        "colab_type": "code",
        "outputId": "db6122a1-0836-4fab-cb68-96039ea5cb06",
        "colab": {
          "base_uri": "https://localhost:8080/",
          "height": 34
        }
      },
      "source": [
        "train_df.shape"
      ],
      "execution_count": 5,
      "outputs": [
        {
          "output_type": "execute_result",
          "data": {
            "text/plain": [
              "(32769, 10)"
            ]
          },
          "metadata": {
            "tags": []
          },
          "execution_count": 5
        }
      ]
    },
    {
      "cell_type": "code",
      "metadata": {
        "id": "xDqXnSs3YmBj",
        "colab_type": "code",
        "outputId": "f8857b0b-0309-4a0a-b9e2-62cd837b84e9",
        "colab": {
          "base_uri": "https://localhost:8080/",
          "height": 204
        }
      },
      "source": [
        "train_df.isnull().sum()"
      ],
      "execution_count": 6,
      "outputs": [
        {
          "output_type": "execute_result",
          "data": {
            "text/plain": [
              "ACTION              0\n",
              "RESOURCE            0\n",
              "MGR_ID              0\n",
              "ROLE_ROLLUP_1       0\n",
              "ROLE_ROLLUP_2       0\n",
              "ROLE_DEPTNAME       0\n",
              "ROLE_TITLE          0\n",
              "ROLE_FAMILY_DESC    0\n",
              "ROLE_FAMILY         0\n",
              "ROLE_CODE           0\n",
              "dtype: int64"
            ]
          },
          "metadata": {
            "tags": []
          },
          "execution_count": 6
        }
      ]
    },
    {
      "cell_type": "code",
      "metadata": {
        "id": "mBvArUjnWYvk",
        "colab_type": "code",
        "outputId": "1857a7d0-aa0c-4d31-a0ff-8b566612f64d",
        "colab": {
          "base_uri": "https://localhost:8080/",
          "height": 187
        }
      },
      "source": [
        "for col in train_df.columns:\n",
        "    s = train_df[col].unique().shape[0]\n",
        "    print(f'For column {col} the number of unique valriables is {s}')"
      ],
      "execution_count": 7,
      "outputs": [
        {
          "output_type": "stream",
          "text": [
            "For column ACTION the number of unique valriables is 2\n",
            "For column RESOURCE the number of unique valriables is 7518\n",
            "For column MGR_ID the number of unique valriables is 4243\n",
            "For column ROLE_ROLLUP_1 the number of unique valriables is 128\n",
            "For column ROLE_ROLLUP_2 the number of unique valriables is 177\n",
            "For column ROLE_DEPTNAME the number of unique valriables is 449\n",
            "For column ROLE_TITLE the number of unique valriables is 343\n",
            "For column ROLE_FAMILY_DESC the number of unique valriables is 2358\n",
            "For column ROLE_FAMILY the number of unique valriables is 67\n",
            "For column ROLE_CODE the number of unique valriables is 343\n"
          ],
          "name": "stdout"
        }
      ]
    },
    {
      "cell_type": "code",
      "metadata": {
        "id": "LJ2jq8ZpXhD1",
        "colab_type": "code",
        "outputId": "299c6f76-f51a-41b1-fd5c-76cc0cca6ce6",
        "colab": {
          "base_uri": "https://localhost:8080/",
          "height": 51
        }
      },
      "source": [
        "print(f'Labels are {set(train_df[\"ACTION\"])}')\n",
        "ones = train_df['ACTION'].loc[train_df['ACTION']==1].shape[0]\n",
        "zeros = train_df['ACTION'].loc[train_df['ACTION']==0].shape[0]\n",
        "print(f'Number of 1s in a dataset: {ones}, Number of 0s in a dataset: {zeros}')"
      ],
      "execution_count": 8,
      "outputs": [
        {
          "output_type": "stream",
          "text": [
            "Labels are {0, 1}\n",
            "Number of 1s in a dataset: 30872, Number of 0s in a dataset: 1897\n"
          ],
          "name": "stdout"
        }
      ]
    },
    {
      "cell_type": "code",
      "metadata": {
        "id": "N8Opv_p1o3rx",
        "colab_type": "code",
        "colab": {}
      },
      "source": [
        "train_df, validation_df = train_test_split(train_df, test_size=0.1, stratify=train_df['ACTION'], random_state=200)\n"
      ],
      "execution_count": 0,
      "outputs": []
    },
    {
      "cell_type": "code",
      "metadata": {
        "id": "JEUZupVYWK9W",
        "colab_type": "code",
        "colab": {}
      },
      "source": [
        ""
      ],
      "execution_count": 0,
      "outputs": []
    },
    {
      "cell_type": "code",
      "metadata": {
        "id": "EDYdpUyKImiQ",
        "colab_type": "code",
        "colab": {}
      },
      "source": [
        "X, Y = train_df.drop(['ACTION'], axis=1), train_df['ACTION']\n",
        "\n",
        "\n",
        "\n",
        "\n"
      ],
      "execution_count": 0,
      "outputs": []
    },
    {
      "cell_type": "code",
      "metadata": {
        "id": "877Z4VEvpP7M",
        "colab_type": "code",
        "outputId": "ef7ef7a7-15ca-43b4-c74c-d373e7d2c0b3",
        "colab": {
          "base_uri": "https://localhost:8080/",
          "height": 204
        }
      },
      "source": [
        "X.head()"
      ],
      "execution_count": 11,
      "outputs": [
        {
          "output_type": "execute_result",
          "data": {
            "text/html": [
              "<div>\n",
              "<style scoped>\n",
              "    .dataframe tbody tr th:only-of-type {\n",
              "        vertical-align: middle;\n",
              "    }\n",
              "\n",
              "    .dataframe tbody tr th {\n",
              "        vertical-align: top;\n",
              "    }\n",
              "\n",
              "    .dataframe thead th {\n",
              "        text-align: right;\n",
              "    }\n",
              "</style>\n",
              "<table border=\"1\" class=\"dataframe\">\n",
              "  <thead>\n",
              "    <tr style=\"text-align: right;\">\n",
              "      <th></th>\n",
              "      <th>RESOURCE</th>\n",
              "      <th>MGR_ID</th>\n",
              "      <th>ROLE_ROLLUP_1</th>\n",
              "      <th>ROLE_ROLLUP_2</th>\n",
              "      <th>ROLE_DEPTNAME</th>\n",
              "      <th>ROLE_TITLE</th>\n",
              "      <th>ROLE_FAMILY_DESC</th>\n",
              "      <th>ROLE_FAMILY</th>\n",
              "      <th>ROLE_CODE</th>\n",
              "    </tr>\n",
              "  </thead>\n",
              "  <tbody>\n",
              "    <tr>\n",
              "      <th>13192</th>\n",
              "      <td>75943</td>\n",
              "      <td>3100</td>\n",
              "      <td>117916</td>\n",
              "      <td>117917</td>\n",
              "      <td>118599</td>\n",
              "      <td>179731</td>\n",
              "      <td>120238</td>\n",
              "      <td>117887</td>\n",
              "      <td>117973</td>\n",
              "    </tr>\n",
              "    <tr>\n",
              "      <th>31386</th>\n",
              "      <td>109084</td>\n",
              "      <td>1483</td>\n",
              "      <td>117961</td>\n",
              "      <td>117962</td>\n",
              "      <td>118840</td>\n",
              "      <td>124886</td>\n",
              "      <td>124887</td>\n",
              "      <td>118643</td>\n",
              "      <td>124888</td>\n",
              "    </tr>\n",
              "    <tr>\n",
              "      <th>20396</th>\n",
              "      <td>74557</td>\n",
              "      <td>7504</td>\n",
              "      <td>117961</td>\n",
              "      <td>118300</td>\n",
              "      <td>118783</td>\n",
              "      <td>118321</td>\n",
              "      <td>117906</td>\n",
              "      <td>290919</td>\n",
              "      <td>118322</td>\n",
              "    </tr>\n",
              "    <tr>\n",
              "      <th>30156</th>\n",
              "      <td>19310</td>\n",
              "      <td>14551</td>\n",
              "      <td>5110</td>\n",
              "      <td>117954</td>\n",
              "      <td>117895</td>\n",
              "      <td>117899</td>\n",
              "      <td>117897</td>\n",
              "      <td>19721</td>\n",
              "      <td>117900</td>\n",
              "    </tr>\n",
              "    <tr>\n",
              "      <th>896</th>\n",
              "      <td>79363</td>\n",
              "      <td>1030</td>\n",
              "      <td>117961</td>\n",
              "      <td>118343</td>\n",
              "      <td>120722</td>\n",
              "      <td>118361</td>\n",
              "      <td>118362</td>\n",
              "      <td>118363</td>\n",
              "      <td>118364</td>\n",
              "    </tr>\n",
              "  </tbody>\n",
              "</table>\n",
              "</div>"
            ],
            "text/plain": [
              "       RESOURCE  MGR_ID  ...  ROLE_FAMILY  ROLE_CODE\n",
              "13192     75943    3100  ...       117887     117973\n",
              "31386    109084    1483  ...       118643     124888\n",
              "20396     74557    7504  ...       290919     118322\n",
              "30156     19310   14551  ...        19721     117900\n",
              "896       79363    1030  ...       118363     118364\n",
              "\n",
              "[5 rows x 9 columns]"
            ]
          },
          "metadata": {
            "tags": []
          },
          "execution_count": 11
        }
      ]
    },
    {
      "cell_type": "code",
      "metadata": {
        "id": "5vJK-F6wpUHi",
        "colab_type": "code",
        "colab": {}
      },
      "source": [
        "categorical_indices = list(range(0, len(X.columns))) # indices of categorical features"
      ],
      "execution_count": 0,
      "outputs": []
    },
    {
      "cell_type": "code",
      "metadata": {
        "id": "CLWJtZpJMRkD",
        "colab_type": "code",
        "outputId": "44026d1f-6017-41ed-b63b-843bcea8901b",
        "colab": {
          "base_uri": "https://localhost:8080/",
          "height": 204
        }
      },
      "source": [
        "X.iloc[:, categorical_indices].head()\n"
      ],
      "execution_count": 13,
      "outputs": [
        {
          "output_type": "execute_result",
          "data": {
            "text/html": [
              "<div>\n",
              "<style scoped>\n",
              "    .dataframe tbody tr th:only-of-type {\n",
              "        vertical-align: middle;\n",
              "    }\n",
              "\n",
              "    .dataframe tbody tr th {\n",
              "        vertical-align: top;\n",
              "    }\n",
              "\n",
              "    .dataframe thead th {\n",
              "        text-align: right;\n",
              "    }\n",
              "</style>\n",
              "<table border=\"1\" class=\"dataframe\">\n",
              "  <thead>\n",
              "    <tr style=\"text-align: right;\">\n",
              "      <th></th>\n",
              "      <th>RESOURCE</th>\n",
              "      <th>MGR_ID</th>\n",
              "      <th>ROLE_ROLLUP_1</th>\n",
              "      <th>ROLE_ROLLUP_2</th>\n",
              "      <th>ROLE_DEPTNAME</th>\n",
              "      <th>ROLE_TITLE</th>\n",
              "      <th>ROLE_FAMILY_DESC</th>\n",
              "      <th>ROLE_FAMILY</th>\n",
              "      <th>ROLE_CODE</th>\n",
              "    </tr>\n",
              "  </thead>\n",
              "  <tbody>\n",
              "    <tr>\n",
              "      <th>13192</th>\n",
              "      <td>75943</td>\n",
              "      <td>3100</td>\n",
              "      <td>117916</td>\n",
              "      <td>117917</td>\n",
              "      <td>118599</td>\n",
              "      <td>179731</td>\n",
              "      <td>120238</td>\n",
              "      <td>117887</td>\n",
              "      <td>117973</td>\n",
              "    </tr>\n",
              "    <tr>\n",
              "      <th>31386</th>\n",
              "      <td>109084</td>\n",
              "      <td>1483</td>\n",
              "      <td>117961</td>\n",
              "      <td>117962</td>\n",
              "      <td>118840</td>\n",
              "      <td>124886</td>\n",
              "      <td>124887</td>\n",
              "      <td>118643</td>\n",
              "      <td>124888</td>\n",
              "    </tr>\n",
              "    <tr>\n",
              "      <th>20396</th>\n",
              "      <td>74557</td>\n",
              "      <td>7504</td>\n",
              "      <td>117961</td>\n",
              "      <td>118300</td>\n",
              "      <td>118783</td>\n",
              "      <td>118321</td>\n",
              "      <td>117906</td>\n",
              "      <td>290919</td>\n",
              "      <td>118322</td>\n",
              "    </tr>\n",
              "    <tr>\n",
              "      <th>30156</th>\n",
              "      <td>19310</td>\n",
              "      <td>14551</td>\n",
              "      <td>5110</td>\n",
              "      <td>117954</td>\n",
              "      <td>117895</td>\n",
              "      <td>117899</td>\n",
              "      <td>117897</td>\n",
              "      <td>19721</td>\n",
              "      <td>117900</td>\n",
              "    </tr>\n",
              "    <tr>\n",
              "      <th>896</th>\n",
              "      <td>79363</td>\n",
              "      <td>1030</td>\n",
              "      <td>117961</td>\n",
              "      <td>118343</td>\n",
              "      <td>120722</td>\n",
              "      <td>118361</td>\n",
              "      <td>118362</td>\n",
              "      <td>118363</td>\n",
              "      <td>118364</td>\n",
              "    </tr>\n",
              "  </tbody>\n",
              "</table>\n",
              "</div>"
            ],
            "text/plain": [
              "       RESOURCE  MGR_ID  ...  ROLE_FAMILY  ROLE_CODE\n",
              "13192     75943    3100  ...       117887     117973\n",
              "31386    109084    1483  ...       118643     124888\n",
              "20396     74557    7504  ...       290919     118322\n",
              "30156     19310   14551  ...        19721     117900\n",
              "896       79363    1030  ...       118363     118364\n",
              "\n",
              "[5 rows x 9 columns]"
            ]
          },
          "metadata": {
            "tags": []
          },
          "execution_count": 13
        }
      ]
    },
    {
      "cell_type": "code",
      "metadata": {
        "id": "XqMGmI2xTiu2",
        "colab_type": "code",
        "colab": {}
      },
      "source": [
        ""
      ],
      "execution_count": 0,
      "outputs": []
    },
    {
      "cell_type": "markdown",
      "metadata": {
        "id": "KAV4fOzqMIhn",
        "colab_type": "text"
      },
      "source": [
        ""
      ]
    },
    {
      "cell_type": "code",
      "metadata": {
        "id": "k5gVTNOeMJBw",
        "colab_type": "code",
        "colab": {}
      },
      "source": [
        ""
      ],
      "execution_count": 0,
      "outputs": []
    },
    {
      "cell_type": "markdown",
      "metadata": {
        "id": "OIofKvtkLSpK",
        "colab_type": "text"
      },
      "source": [
        ""
      ]
    },
    {
      "cell_type": "markdown",
      "metadata": {
        "id": "25nshoYyXAOo",
        "colab_type": "text"
      },
      "source": [
        "The dataset for the purposes of this talk is very clean. All variables are of the same type, all categorical. No missing values to worry about. The only issue is imbalance of the dataset. That can, and should be treated during data preparation process, with different techniques depending on your problem. "
      ]
    },
    {
      "cell_type": "markdown",
      "metadata": {
        "id": "k1IjQUVLYCUI",
        "colab_type": "text"
      },
      "source": [
        "**Modeling**"
      ]
    },
    {
      "cell_type": "code",
      "metadata": {
        "id": "rRlnn_bXWw3-",
        "colab_type": "code",
        "colab": {}
      },
      "source": [
        "from sklearn.metrics import accuracy_score, classification_report, confusion_matrix, roc_auc_score\n",
        "from sklearn.model_selection import StratifiedKFold\n",
        "from catboost import CatBoostClassifier, sum_models\n",
        "\n",
        "\n",
        "def cv_catboost(X, Y, cat_columns):\n",
        "    # CROSS VALIDATION\n",
        "    cv = StratifiedKFold(n_splits=5, shuffle=True, random_state=7)\n",
        "\n",
        "    # RUN\n",
        "    c = 0\n",
        "    oof_preds = np.zeros((len(X), 2))\n",
        "    models = []\n",
        "\n",
        "    for train, valid in cv.split(X, Y):\n",
        "        print(\"VAL fold %s\" % c)\n",
        "        X_train = X.iloc[train]\n",
        "        Y_train = Y.iloc[train]\n",
        "        X_valid = X.iloc[valid]\n",
        "        Y_valid = Y.iloc[valid]\n",
        "\n",
        "        model = CatBoostClassifier(iterations=2000, \n",
        "                                   verbose=200,\n",
        "                                   random_seed=43,\n",
        "                                   od_type='Iter',\n",
        "                                   od_wait=100,\n",
        "                                   train_dir=f'model_cross_val_{c}',\n",
        "                                   task_type='GPU'\n",
        "                                   )\n",
        "\n",
        "        try:\n",
        "            model.fit(X_train, Y_train,\n",
        "                    eval_set=(X_valid, Y_valid), \n",
        "                    use_best_model=True,\n",
        "                    cat_features=cat_columns, \n",
        "                    save_snapshot=True,\n",
        "                    snapshot_interval=300,\n",
        "                    snapshot_file=f'snapshot_{c}',\n",
        "                    )\n",
        "        except:\n",
        "            model.fit(X_train, Y_train,\n",
        "                    eval_set=(X_valid, Y_valid), \n",
        "                    use_best_model=True,\n",
        "                    cat_features=cat_columns,\n",
        "                    )\n",
        "        \n",
        "        oof_preds[valid] = model.predict_proba(X_valid)\n",
        "        models.append(model)\n",
        "\n",
        "\n",
        "        # EVALUATION\n",
        "        auc = roc_auc_score(validation_df['ACTION'], [r[1] for r in model.predict_proba(validation_df.drop('ACTION', axis=1))] )\n",
        "        print(f'AUC for fold {c} is {auc}')\n",
        "        c += 1\n",
        "\n",
        "    final_model = sum_models(models, ctr_merge_policy='LeaveMostDiversifiedTable') # ('FailIfCtrsIntersects', 'IntersectingCountersAverage')\n",
        "    auc = roc_auc_score(validation_df['ACTION'], [r[1] for r in final_model.predict(validation_df.drop('ACTION', axis=1), prediction_type='Probability')] )\n",
        "    print(f'Final model AUC is {auc}')\n",
        "    \n",
        "\n",
        "    # OOF PREDS\n",
        "    oof_preds = [row[1] for row in oof_preds]\n",
        "    auc = roc_auc_score(Y, oof_preds)\n",
        "    print(\"CV_AUC: {}\".format(auc))\n",
        "\n",
        "    # SAVE OOF PREDS\n",
        "    oof_pred_df = pd.DataFrame(columns=['ID_code', 'target'])\n",
        "    oof_pred_df['ID_code'] = pd.Series(X.index.tolist())\n",
        "    oof_pred_df['target'] = pd.Series(oof_preds)\n",
        "\n",
        "    return final_model, oof_pred_df, models"
      ],
      "execution_count": 0,
      "outputs": []
    },
    {
      "cell_type": "code",
      "metadata": {
        "id": "ggxqCtxdZAkp",
        "colab_type": "code",
        "outputId": "64f4bee5-e328-4f9b-bd1c-b292cec4bbe7",
        "colab": {
          "base_uri": "https://localhost:8080/",
          "height": 1000
        }
      },
      "source": [
        "import time\n",
        "start = time.time()\n",
        "final_model, oof_pred_df, models = cv_catboost(X, Y, categorical_indices)\n",
        "print(time.time() - start)"
      ],
      "execution_count": 15,
      "outputs": [
        {
          "output_type": "stream",
          "text": [
            "VAL fold 0\n",
            "Learning rate set to 0.040852\n",
            "0:\tlearn: 0.6335210\ttest: 0.6350821\tbest: 0.6350821 (0)\ttotal: 104ms\tremaining: 3m 28s\n",
            "200:\tlearn: 0.1516341\ttest: 0.1407156\tbest: 0.1407156 (200)\ttotal: 11.3s\tremaining: 1m 41s\n",
            "400:\tlearn: 0.1450930\ttest: 0.1385907\tbest: 0.1385734 (393)\ttotal: 22.2s\tremaining: 1m 28s\n",
            "600:\tlearn: 0.1395943\ttest: 0.1378234\tbest: 0.1378102 (597)\ttotal: 33.1s\tremaining: 1m 17s\n",
            "800:\tlearn: 0.1363002\ttest: 0.1373417\tbest: 0.1373182 (771)\ttotal: 44.2s\tremaining: 1m 6s\n",
            "1000:\tlearn: 0.1331791\ttest: 0.1372169\tbest: 0.1370207 (966)\ttotal: 55s\tremaining: 54.9s\n",
            "bestTest = 0.1370207493\n",
            "bestIteration = 966\n",
            "Shrink model to first 967 iterations.\n",
            "AUC for fold 0 is 0.8640998755391881\n",
            "VAL fold 1\n",
            "Learning rate set to 0.040852\n",
            "0:\tlearn: 0.6333667\ttest: 0.6346355\tbest: 0.6346355 (0)\ttotal: 56.8ms\tremaining: 1m 53s\n",
            "200:\tlearn: 0.1486551\ttest: 0.1443204\tbest: 0.1443204 (200)\ttotal: 11.4s\tremaining: 1m 41s\n",
            "400:\tlearn: 0.1425145\ttest: 0.1420261\tbest: 0.1420261 (400)\ttotal: 22.3s\tremaining: 1m 28s\n",
            "600:\tlearn: 0.1387401\ttest: 0.1412457\tbest: 0.1412412 (595)\ttotal: 33.2s\tremaining: 1m 17s\n",
            "800:\tlearn: 0.1355452\ttest: 0.1405052\tbest: 0.1405049 (799)\ttotal: 44.6s\tremaining: 1m 6s\n",
            "bestTest = 0.1403258253\n",
            "bestIteration = 826\n",
            "Shrink model to first 827 iterations.\n",
            "AUC for fold 1 is 0.8751871174534978\n",
            "VAL fold 2\n",
            "Learning rate set to 0.040852\n",
            "0:\tlearn: 0.6328010\ttest: 0.6334800\tbest: 0.6334800 (0)\ttotal: 55.5ms\tremaining: 1m 50s\n",
            "200:\tlearn: 0.1518764\ttest: 0.1361691\tbest: 0.1361691 (200)\ttotal: 11.2s\tremaining: 1m 40s\n",
            "400:\tlearn: 0.1451371\ttest: 0.1342742\tbest: 0.1342001 (398)\ttotal: 22.1s\tremaining: 1m 28s\n",
            "bestTest = 0.1339426956\n",
            "bestIteration = 463\n",
            "Shrink model to first 464 iterations.\n",
            "AUC for fold 2 is 0.8626199853374934\n",
            "VAL fold 3\n",
            "Learning rate set to 0.040852\n",
            "0:\tlearn: 0.6341921\ttest: 0.6300058\tbest: 0.6300058 (0)\ttotal: 55.3ms\tremaining: 1m 50s\n",
            "200:\tlearn: 0.1518142\ttest: 0.1449034\tbest: 0.1449034 (200)\ttotal: 11.3s\tremaining: 1m 40s\n",
            "400:\tlearn: 0.1467881\ttest: 0.1435924\tbest: 0.1435369 (376)\ttotal: 22.6s\tremaining: 1m 30s\n",
            "600:\tlearn: 0.1435997\ttest: 0.1430775\tbest: 0.1430630 (597)\ttotal: 34.3s\tremaining: 1m 19s\n",
            "800:\tlearn: 0.1401133\ttest: 0.1425822\tbest: 0.1425822 (800)\ttotal: 45.5s\tremaining: 1m 8s\n",
            "1000:\tlearn: 0.1378648\ttest: 0.1421594\tbest: 0.1421347 (981)\ttotal: 56.4s\tremaining: 56.3s\n",
            "bestTest = 0.1420719513\n",
            "bestIteration = 1053\n",
            "Shrink model to first 1054 iterations.\n",
            "AUC for fold 3 is 0.8734404037304145\n",
            "VAL fold 4\n",
            "Learning rate set to 0.040852\n",
            "0:\tlearn: 0.6341012\ttest: 0.6356461\tbest: 0.6356461 (0)\ttotal: 56.1ms\tremaining: 1m 52s\n",
            "200:\tlearn: 0.1531345\ttest: 0.1381762\tbest: 0.1381762 (200)\ttotal: 11.2s\tremaining: 1m 40s\n",
            "400:\tlearn: 0.1469758\ttest: 0.1355098\tbest: 0.1354264 (395)\ttotal: 22.2s\tremaining: 1m 28s\n",
            "600:\tlearn: 0.1430949\ttest: 0.1346416\tbest: 0.1346215 (599)\ttotal: 33.1s\tremaining: 1m 17s\n",
            "800:\tlearn: 0.1395786\ttest: 0.1345998\tbest: 0.1344515 (722)\ttotal: 44s\tremaining: 1m 5s\n",
            "bestTest = 0.1344514564\n",
            "bestIteration = 722\n",
            "Shrink model to first 723 iterations.\n",
            "AUC for fold 4 is 0.8686929909808535\n",
            "Final model AUC is 0.8745460590251137\n",
            "CV_AUC: 0.894750479110932\n",
            "260.34070587158203\n"
          ],
          "name": "stdout"
        }
      ]
    },
    {
      "cell_type": "code",
      "metadata": {
        "id": "ZFK2Z193ZIcb",
        "colab_type": "code",
        "colab": {}
      },
      "source": [
        ""
      ],
      "execution_count": 0,
      "outputs": []
    },
    {
      "cell_type": "markdown",
      "metadata": {
        "id": "Gi2iaKFSBQ0k",
        "colab_type": "text"
      },
      "source": [
        ""
      ]
    },
    {
      "cell_type": "code",
      "metadata": {
        "id": "vXMGHjcbUWUW",
        "colab_type": "code",
        "colab": {}
      },
      "source": [
        "\n",
        "\n"
      ],
      "execution_count": 0,
      "outputs": []
    },
    {
      "cell_type": "markdown",
      "metadata": {
        "id": "ECy5rHUtK9AC",
        "colab_type": "text"
      },
      "source": [
        "Get feature importance"
      ]
    },
    {
      "cell_type": "code",
      "metadata": {
        "id": "upmNljmwCKAi",
        "colab_type": "code",
        "colab": {}
      },
      "source": [
        "import numpy as np \n",
        "from sklearn.metrics import roc_auc_score, accuracy_score\n",
        "\n",
        "\n",
        "def score(model, X, y):\n",
        "    y_pred = model.predict(X)\n",
        "    return accuracy_score(y, y_pred)\n",
        "\n",
        "def score_auc(model, X, y):\n",
        "    y_pred_prob = [i[1] for i in model.predict_proba(X)]\n",
        "    return roc_auc_score(y, y_pred_prob)\n",
        "\n",
        "def shuffled_scores(X_orig, y, model, score_func):\n",
        "    scores = []\n",
        "    for col in X_orig.columns:\n",
        "        X = X_orig.copy()\n",
        "        X[col] = np.random.permutation(X[col])\n",
        "        score = score_func(model, X, y)\n",
        "        scores.append(score)\n",
        "    return np.array(scores)\n",
        "\n",
        "def permutation_feature_importance(X, y, model, score_func, n_iter):\n",
        "    base_score = score_func(model, X, y)\n",
        "    print('Base score is ', base_score)\n",
        "    score_decreases = []\n",
        "    for i in range(n_iter):\n",
        "        scores = shuffled_scores(X, y, model, score_func)\n",
        "        score_decreases.append(-scores + base_score)\n",
        "    return base_score, score_decreases\n",
        "\n",
        "def get_permutation_importance(X, y, model, score_func):\n",
        "    '''\n",
        "    Call this function to get permutation feature importances.\n",
        "    X - pandas dataframe with all the features used to train the model\n",
        "    y - pandas dataframe or series object \n",
        "    model - Model object used for prediction. Any model objects with predict or .predict_proba methods are acceptable. \n",
        "    score_func - function to score the model. AUC and ACCURACY are available above\n",
        "    '''\n",
        "    \n",
        "    base_score, score_decreases = permutation_feature_importance(X, y, model, score_func, 5)\n",
        "    permutation_feature_importances = np.mean(score_decreases, axis=0)\n",
        "\n",
        "    return base_score, permutation_feature_importances"
      ],
      "execution_count": 0,
      "outputs": []
    },
    {
      "cell_type": "code",
      "metadata": {
        "id": "I_P_Rpq2oA2B",
        "colab_type": "code",
        "outputId": "5904a7fc-73d3-4d79-e218-1e2b6eff2dab",
        "colab": {
          "base_uri": "https://localhost:8080/",
          "height": 34
        }
      },
      "source": [
        "base_score, permutation_feature_importances = get_permutation_importance(validation_df.drop('ACTION', axis=1), validation_df['ACTION'], models[0], score_auc)"
      ],
      "execution_count": 17,
      "outputs": [
        {
          "output_type": "stream",
          "text": [
            "Base score is  0.8640998755391881\n"
          ],
          "name": "stdout"
        }
      ]
    },
    {
      "cell_type": "code",
      "metadata": {
        "id": "g5FuS2GiXPwE",
        "colab_type": "code",
        "colab": {}
      },
      "source": [
        "feat_df = pd.DataFrame()\n",
        "feat_df['feature'] = validation_df.drop('ACTION', axis=1).columns.tolist()\n",
        "feat_df['scores'] = permutation_feature_importances\n",
        "feat_df.sort_values(by=['scores'], ascending=False, inplace=True)"
      ],
      "execution_count": 0,
      "outputs": []
    },
    {
      "cell_type": "code",
      "metadata": {
        "id": "pFjhSb2_Im8j",
        "colab_type": "code",
        "outputId": "dc514097-ab2e-45fb-b6d2-2cf418543cff",
        "colab": {
          "base_uri": "https://localhost:8080/",
          "height": 328
        }
      },
      "source": [
        "feat_df"
      ],
      "execution_count": 19,
      "outputs": [
        {
          "output_type": "execute_result",
          "data": {
            "text/html": [
              "<div>\n",
              "<style scoped>\n",
              "    .dataframe tbody tr th:only-of-type {\n",
              "        vertical-align: middle;\n",
              "    }\n",
              "\n",
              "    .dataframe tbody tr th {\n",
              "        vertical-align: top;\n",
              "    }\n",
              "\n",
              "    .dataframe thead th {\n",
              "        text-align: right;\n",
              "    }\n",
              "</style>\n",
              "<table border=\"1\" class=\"dataframe\">\n",
              "  <thead>\n",
              "    <tr style=\"text-align: right;\">\n",
              "      <th></th>\n",
              "      <th>feature</th>\n",
              "      <th>scores</th>\n",
              "    </tr>\n",
              "  </thead>\n",
              "  <tbody>\n",
              "    <tr>\n",
              "      <th>0</th>\n",
              "      <td>RESOURCE</td>\n",
              "      <td>0.053775</td>\n",
              "    </tr>\n",
              "    <tr>\n",
              "      <th>1</th>\n",
              "      <td>MGR_ID</td>\n",
              "      <td>0.032959</td>\n",
              "    </tr>\n",
              "    <tr>\n",
              "      <th>6</th>\n",
              "      <td>ROLE_FAMILY_DESC</td>\n",
              "      <td>0.017200</td>\n",
              "    </tr>\n",
              "    <tr>\n",
              "      <th>4</th>\n",
              "      <td>ROLE_DEPTNAME</td>\n",
              "      <td>0.014626</td>\n",
              "    </tr>\n",
              "    <tr>\n",
              "      <th>3</th>\n",
              "      <td>ROLE_ROLLUP_2</td>\n",
              "      <td>0.013386</td>\n",
              "    </tr>\n",
              "    <tr>\n",
              "      <th>7</th>\n",
              "      <td>ROLE_FAMILY</td>\n",
              "      <td>0.002920</td>\n",
              "    </tr>\n",
              "    <tr>\n",
              "      <th>2</th>\n",
              "      <td>ROLE_ROLLUP_1</td>\n",
              "      <td>0.002738</td>\n",
              "    </tr>\n",
              "    <tr>\n",
              "      <th>8</th>\n",
              "      <td>ROLE_CODE</td>\n",
              "      <td>-0.001033</td>\n",
              "    </tr>\n",
              "    <tr>\n",
              "      <th>5</th>\n",
              "      <td>ROLE_TITLE</td>\n",
              "      <td>-0.002340</td>\n",
              "    </tr>\n",
              "  </tbody>\n",
              "</table>\n",
              "</div>"
            ],
            "text/plain": [
              "            feature    scores\n",
              "0          RESOURCE  0.053775\n",
              "1            MGR_ID  0.032959\n",
              "6  ROLE_FAMILY_DESC  0.017200\n",
              "4     ROLE_DEPTNAME  0.014626\n",
              "3     ROLE_ROLLUP_2  0.013386\n",
              "7       ROLE_FAMILY  0.002920\n",
              "2     ROLE_ROLLUP_1  0.002738\n",
              "8         ROLE_CODE -0.001033\n",
              "5        ROLE_TITLE -0.002340"
            ]
          },
          "metadata": {
            "tags": []
          },
          "execution_count": 19
        }
      ]
    },
    {
      "cell_type": "code",
      "metadata": {
        "id": "NWGGH0bUJNiW",
        "colab_type": "code",
        "colab": {}
      },
      "source": [
        "final_model.save_model('final_catboost_amazon_dataset.bin')"
      ],
      "execution_count": 0,
      "outputs": []
    },
    {
      "cell_type": "code",
      "metadata": {
        "id": "Fl_KoWitPXxf",
        "colab_type": "code",
        "outputId": "4e0230e0-ab69-419b-c954-ecfb0f24291c",
        "colab": {
          "base_uri": "https://localhost:8080/",
          "height": 34
        }
      },
      "source": [
        "final_model"
      ],
      "execution_count": 21,
      "outputs": [
        {
          "output_type": "execute_result",
          "data": {
            "text/plain": [
              "<catboost.core.CatBoost at 0x7fdf53547e10>"
            ]
          },
          "metadata": {
            "tags": []
          },
          "execution_count": 21
        }
      ]
    },
    {
      "cell_type": "code",
      "metadata": {
        "id": "ZK6ylvxdna-J",
        "colab_type": "code",
        "colab": {}
      },
      "source": [
        "import pickle\n"
      ],
      "execution_count": 0,
      "outputs": []
    },
    {
      "cell_type": "code",
      "metadata": {
        "id": "UbYmcxN1PjTj",
        "colab_type": "code",
        "colab": {}
      },
      "source": [
        "with open('models0_model_amazon.pickle', 'wb') as d_model:\n",
        "    pickle.dump(models[0], d_model)"
      ],
      "execution_count": 0,
      "outputs": []
    },
    {
      "cell_type": "code",
      "metadata": {
        "id": "IyQqKcdYSY_0",
        "colab_type": "code",
        "outputId": "5a513da0-e985-4b76-e44a-5b81ffdae12e",
        "colab": {
          "base_uri": "https://localhost:8080/",
          "height": 80
        }
      },
      "source": [
        "validation_df.drop('ACTION', axis=1).head(1)"
      ],
      "execution_count": 24,
      "outputs": [
        {
          "output_type": "execute_result",
          "data": {
            "text/html": [
              "<div>\n",
              "<style scoped>\n",
              "    .dataframe tbody tr th:only-of-type {\n",
              "        vertical-align: middle;\n",
              "    }\n",
              "\n",
              "    .dataframe tbody tr th {\n",
              "        vertical-align: top;\n",
              "    }\n",
              "\n",
              "    .dataframe thead th {\n",
              "        text-align: right;\n",
              "    }\n",
              "</style>\n",
              "<table border=\"1\" class=\"dataframe\">\n",
              "  <thead>\n",
              "    <tr style=\"text-align: right;\">\n",
              "      <th></th>\n",
              "      <th>RESOURCE</th>\n",
              "      <th>MGR_ID</th>\n",
              "      <th>ROLE_ROLLUP_1</th>\n",
              "      <th>ROLE_ROLLUP_2</th>\n",
              "      <th>ROLE_DEPTNAME</th>\n",
              "      <th>ROLE_TITLE</th>\n",
              "      <th>ROLE_FAMILY_DESC</th>\n",
              "      <th>ROLE_FAMILY</th>\n",
              "      <th>ROLE_CODE</th>\n",
              "    </tr>\n",
              "  </thead>\n",
              "  <tbody>\n",
              "    <tr>\n",
              "      <th>24268</th>\n",
              "      <td>37326</td>\n",
              "      <td>25262</td>\n",
              "      <td>117961</td>\n",
              "      <td>118327</td>\n",
              "      <td>118320</td>\n",
              "      <td>118685</td>\n",
              "      <td>311622</td>\n",
              "      <td>308574</td>\n",
              "      <td>118687</td>\n",
              "    </tr>\n",
              "  </tbody>\n",
              "</table>\n",
              "</div>"
            ],
            "text/plain": [
              "       RESOURCE  MGR_ID  ...  ROLE_FAMILY  ROLE_CODE\n",
              "24268     37326   25262  ...       308574     118687\n",
              "\n",
              "[1 rows x 9 columns]"
            ]
          },
          "metadata": {
            "tags": []
          },
          "execution_count": 24
        }
      ]
    },
    {
      "cell_type": "code",
      "metadata": {
        "id": "DV5fnbMsJWiX",
        "colab_type": "code",
        "colab": {}
      },
      "source": [
        "preds = list(final_model.staged_predict(validation_df.drop('ACTION', axis=1), prediction_type='Probability', ntree_end=200))"
      ],
      "execution_count": 0,
      "outputs": []
    },
    {
      "cell_type": "code",
      "metadata": {
        "id": "jpaeIThm1K-U",
        "colab_type": "code",
        "outputId": "b6d384af-2e89-439d-b3ba-f8f4f36d2f5e",
        "colab": {
          "base_uri": "https://localhost:8080/",
          "height": 136
        }
      },
      "source": [
        "preds[199]"
      ],
      "execution_count": 26,
      "outputs": [
        {
          "output_type": "execute_result",
          "data": {
            "text/plain": [
              "array([[0.01272989, 0.98727011],\n",
              "       [0.02401881, 0.97598119],\n",
              "       [0.00888811, 0.99111189],\n",
              "       ...,\n",
              "       [0.01130833, 0.98869167],\n",
              "       [0.02171759, 0.97828241],\n",
              "       [0.01625624, 0.98374376]])"
            ]
          },
          "metadata": {
            "tags": []
          },
          "execution_count": 26
        }
      ]
    },
    {
      "cell_type": "code",
      "metadata": {
        "id": "hm-B1OCqSeO9",
        "colab_type": "code",
        "outputId": "9b39ed63-23f3-4477-fcfe-cc40ebdb66c5",
        "colab": {
          "base_uri": "https://localhost:8080/",
          "height": 34
        }
      },
      "source": [
        "auc = roc_auc_score(validation_df['ACTION'], [r[1] for r in preds[199]])\n",
        "print(f'Staged predict Final model AUC is {auc}')"
      ],
      "execution_count": 27,
      "outputs": [
        {
          "output_type": "stream",
          "text": [
            "Staged predict Final model AUC is 0.8680220960564676\n"
          ],
          "name": "stdout"
        }
      ]
    },
    {
      "cell_type": "code",
      "metadata": {
        "id": "LRwt_UX1vYsK",
        "colab_type": "code",
        "colab": {}
      },
      "source": [
        "final_model.shrink(200)"
      ],
      "execution_count": 0,
      "outputs": []
    },
    {
      "cell_type": "code",
      "metadata": {
        "id": "y65qLGIJvfcA",
        "colab_type": "code",
        "colab": {}
      },
      "source": [
        "with open('shrink_model_amazon.pickle', 'wb') as d_model:\n",
        "    pickle.dump(final_model, d_model)"
      ],
      "execution_count": 0,
      "outputs": []
    },
    {
      "cell_type": "code",
      "metadata": {
        "id": "mdFYZTGR3f2-",
        "colab_type": "code",
        "outputId": "2144d74f-94ad-4f92-bc56-980c39c19bac",
        "colab": {
          "base_uri": "https://localhost:8080/",
          "height": 34
        }
      },
      "source": [
        "auc = roc_auc_score(validation_df['ACTION'], [r[1] for r in final_model.predict(validation_df.drop('ACTION', axis=1), prediction_type='Probability')])\n",
        "print(f'Staged predict Final model AUC is {auc}')"
      ],
      "execution_count": 30,
      "outputs": [
        {
          "output_type": "stream",
          "text": [
            "Staged predict Final model AUC is 0.8680220960564676\n"
          ],
          "name": "stdout"
        }
      ]
    },
    {
      "cell_type": "code",
      "metadata": {
        "id": "psqP1b7V3zM4",
        "colab_type": "code",
        "colab": {}
      },
      "source": [
        "from catboost.utils import select_threshold, get_confusion_matrix\n",
        "validation_pool = Pool(validation_df.drop('ACTION', axis=1), validation_df['ACTION'], cat_features=categorical_indices)"
      ],
      "execution_count": 0,
      "outputs": []
    },
    {
      "cell_type": "code",
      "metadata": {
        "id": "EBHbrdqjQ2rx",
        "colab_type": "code",
        "outputId": "57be55c0-a149-4688-dbd6-22a6048a1ee6",
        "colab": {
          "base_uri": "https://localhost:8080/",
          "height": 351
        }
      },
      "source": [
        ""
      ],
      "execution_count": 32,
      "outputs": [
        {
          "output_type": "error",
          "ename": "CatBoostError",
          "evalue": "ignored",
          "traceback": [
            "\u001b[0;31m---------------------------------------------------------------------------\u001b[0m",
            "\u001b[0;31mCatBoostError\u001b[0m                             Traceback (most recent call last)",
            "\u001b[0;32m<ipython-input-32-702f58374fa1>\u001b[0m in \u001b[0;36m<module>\u001b[0;34m()\u001b[0m\n\u001b[0;32m----> 1\u001b[0;31m \u001b[0mget_confusion_matrix\u001b[0m\u001b[0;34m(\u001b[0m\u001b[0mfinal_model\u001b[0m\u001b[0;34m,\u001b[0m \u001b[0mvalidation_pool\u001b[0m\u001b[0;34m)\u001b[0m\u001b[0;34m\u001b[0m\u001b[0;34m\u001b[0m\u001b[0m\n\u001b[0m",
            "\u001b[0;32m/usr/local/lib/python3.6/dist-packages/catboost/utils.py\u001b[0m in \u001b[0;36mget_confusion_matrix\u001b[0;34m(model, data, thread_count)\u001b[0m\n\u001b[1;32m    297\u001b[0m         \u001b[0;32mraise\u001b[0m \u001b[0mCatBoostError\u001b[0m\u001b[0;34m(\u001b[0m\u001b[0;34m'data must be a catboost.Pool'\u001b[0m\u001b[0;34m)\u001b[0m\u001b[0;34m\u001b[0m\u001b[0;34m\u001b[0m\u001b[0m\n\u001b[1;32m    298\u001b[0m \u001b[0;34m\u001b[0m\u001b[0m\n\u001b[0;32m--> 299\u001b[0;31m     \u001b[0;32mreturn\u001b[0m \u001b[0m_get_confusion_matrix\u001b[0m\u001b[0;34m(\u001b[0m\u001b[0mmodel\u001b[0m\u001b[0;34m.\u001b[0m\u001b[0m_object\u001b[0m\u001b[0;34m,\u001b[0m \u001b[0mdata\u001b[0m\u001b[0;34m,\u001b[0m \u001b[0mthread_count\u001b[0m\u001b[0;34m)\u001b[0m\u001b[0;34m;\u001b[0m\u001b[0;34m\u001b[0m\u001b[0;34m\u001b[0m\u001b[0m\n\u001b[0m\u001b[1;32m    300\u001b[0m \u001b[0;34m\u001b[0m\u001b[0m\n\u001b[1;32m    301\u001b[0m \u001b[0;34m\u001b[0m\u001b[0m\n",
            "\u001b[0;32m_catboost.pyx\u001b[0m in \u001b[0;36m_catboost._get_confusion_matrix\u001b[0;34m()\u001b[0m\n",
            "\u001b[0;32m_catboost.pyx\u001b[0m in \u001b[0;36m_catboost._get_confusion_matrix\u001b[0;34m()\u001b[0m\n",
            "\u001b[0;31mCatBoostError\u001b[0m: catboost/private/libs/target/target_converter.cpp:523: Specifying target border is incompatible with specifying class labels"
          ]
        }
      ]
    },
    {
      "cell_type": "code",
      "metadata": {
        "id": "XV9LbdrgPOOx",
        "colab_type": "code",
        "colab": {}
      },
      "source": [
        ""
      ],
      "execution_count": 0,
      "outputs": []
    },
    {
      "cell_type": "code",
      "metadata": {
        "id": "hwvpNuAJQd2W",
        "colab_type": "code",
        "colab": {}
      },
      "source": [
        ""
      ],
      "execution_count": 0,
      "outputs": []
    }
  ]
}